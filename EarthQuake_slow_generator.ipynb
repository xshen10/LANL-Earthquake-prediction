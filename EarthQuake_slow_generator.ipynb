{
 "cells": [
  {
   "cell_type": "code",
   "execution_count": 1,
   "metadata": {
    "_cell_guid": "b1076dfc-b9ad-4769-8c92-a6c4dae69d19",
    "_uuid": "8f2839f25d086af736a60e9eeb907d3b93b6e0e5"
   },
   "outputs": [
    {
     "name": "stderr",
     "output_type": "stream",
     "text": [
      "Using TensorFlow backend.\n"
     ]
    },
    {
     "name": "stdout",
     "output_type": "stream",
     "text": [
      "['sample_submission.csv', 'test.zip', 'EarthQuake-random_data_generation.ipynb', 'train', 'model_submission.csv', 'conv1D_submission.csv', 'EarthQuake-random_data_generation-Copy1.ipynb', 'train.zip', '.ipynb_checkpoints', 'train.csv', 'test', 'EarthQuake-sequential_data_generation.ipynb', 'EarthQuake-random_data_generation-STFT.ipynb', 'EarthQuake_slow_generator.ipynb', 'lstm_submission.csv', 'conv1D_lstm_submission.csv', 'conv!D_lstm_submission.csv', 'model_submission2.csv']\n"
     ]
    }
   ],
   "source": [
    "# This Python 3 environment comes with many helpful analytics libraries installed\n",
    "# It is defined by the kaggle/python docker image: https://github.com/kaggle/docker-python\n",
    "# For example, here's several helpful packages to load in \n",
    "\n",
    "import numpy as np # linear algebra\n",
    "import pandas as pd # data processing, CSV file I/O (e.g. pd.read_csv)\n",
    "import matplotlib.pyplot as plt\n",
    "from keras.utils import Sequence\n",
    "# Input data files are available in the \"../input/\" directory.\n",
    "# For example, running this (by clicking run or pressing Shift+Enter) will list the files in the input directory\n",
    "\n",
    "import os\n",
    "print(os.listdir(\"/home/ubuntu/kaggle/LANL_Earthquake/\"))\n",
    "\n",
    "# Any results you write to the current directory are saved as output."
   ]
  },
  {
   "cell_type": "code",
   "execution_count": 2,
   "metadata": {},
   "outputs": [
    {
     "data": {
      "text/html": [
       "<div>\n",
       "<style scoped>\n",
       "    .dataframe tbody tr th:only-of-type {\n",
       "        vertical-align: middle;\n",
       "    }\n",
       "\n",
       "    .dataframe tbody tr th {\n",
       "        vertical-align: top;\n",
       "    }\n",
       "\n",
       "    .dataframe thead th {\n",
       "        text-align: right;\n",
       "    }\n",
       "</style>\n",
       "<table border=\"1\" class=\"dataframe\">\n",
       "  <thead>\n",
       "    <tr style=\"text-align: right;\">\n",
       "      <th></th>\n",
       "      <th>acoustic_data</th>\n",
       "      <th>time_to_failure</th>\n",
       "    </tr>\n",
       "  </thead>\n",
       "  <tbody>\n",
       "    <tr>\n",
       "      <th>0</th>\n",
       "      <td>12</td>\n",
       "      <td>1.4691</td>\n",
       "    </tr>\n",
       "    <tr>\n",
       "      <th>1</th>\n",
       "      <td>6</td>\n",
       "      <td>1.4691</td>\n",
       "    </tr>\n",
       "    <tr>\n",
       "      <th>2</th>\n",
       "      <td>8</td>\n",
       "      <td>1.4691</td>\n",
       "    </tr>\n",
       "    <tr>\n",
       "      <th>3</th>\n",
       "      <td>5</td>\n",
       "      <td>1.4691</td>\n",
       "    </tr>\n",
       "    <tr>\n",
       "      <th>4</th>\n",
       "      <td>8</td>\n",
       "      <td>1.4691</td>\n",
       "    </tr>\n",
       "  </tbody>\n",
       "</table>\n",
       "</div>"
      ],
      "text/plain": [
       "   acoustic_data  time_to_failure\n",
       "0             12           1.4691\n",
       "1              6           1.4691\n",
       "2              8           1.4691\n",
       "3              5           1.4691\n",
       "4              8           1.4691"
      ]
     },
     "execution_count": 2,
     "metadata": {},
     "output_type": "execute_result"
    }
   ],
   "source": [
    "train = pd.read_csv('/home/ubuntu/kaggle/LANL_Earthquake/train.csv', dtype={'acoustic_data': np.int16, 'time_to_failure': np.float64}, \n",
    "                    nrows=1_500_000, skiprows=0)\n",
    "train.head()"
   ]
  },
  {
   "cell_type": "code",
   "execution_count": 3,
   "metadata": {
    "_uuid": "f19e6c86dc205d70277565c7e463de7aa5e96b7e"
   },
   "outputs": [
    {
     "data": {
      "text/plain": [
       "[<matplotlib.lines.Line2D at 0x7f63bf595a20>]"
      ]
     },
     "execution_count": 3,
     "metadata": {},
     "output_type": "execute_result"
    },
    {
     "data": {
      "image/png": "[encoded data removed]",
      "text/plain": [
       "<Figure size 720x360 with 2 Axes>"
      ]
     },
     "metadata": {},
     "output_type": "display_data"
    }
   ],
   "source": [
    "f, ax = plt.subplots(2,1,figsize=(10,5))\n",
    "ax[0].plot(train.time_to_failure, color='blue')\n",
    "ax[1].plot(train.acoustic_data,color='red')"
   ]
  },
  {
   "cell_type": "code",
   "execution_count": 4,
   "metadata": {},
   "outputs": [
    {
     "name": "stdout",
     "output_type": "stream",
     "text": [
      "150000\n"
     ]
    }
   ],
   "source": [
    "test = pd.read_csv('/home/ubuntu/kaggle/LANL_Earthquake/test/seg_00c35b.csv', dtype={'acoustic_data': np.int16})\n",
    "print(len(test)) #150_000"
   ]
  },
  {
   "cell_type": "code",
   "execution_count": 5,
   "metadata": {
    "_uuid": "3740975d10af0d7f9ba3650d3f71a2cecb97c5d1"
   },
   "outputs": [],
   "source": [
    "from sklearn.preprocessing import StandardScaler"
   ]
  },
  {
   "cell_type": "code",
   "execution_count": 6,
   "metadata": {
    "_uuid": "78179cf6eae5c0dfca1017e3104e5be88f9b65bf"
   },
   "outputs": [],
   "source": [
    "#scale train.acoustic_data\n",
    "def data_scale(train):\n",
    "    train = train.values\n",
    "    train_x = np.reshape(train[:,0],(-1,1))\n",
    "    scaler = StandardScaler()\n",
    "    scaler.fit(train_x)\n",
    "    train_x_scaled = scaler.transform(train_x)\n",
    "    #train['acoustic_data'] = train_x_scaled\n",
    "    return train_x_scaled"
   ]
  },
  {
   "cell_type": "code",
   "execution_count": 7,
   "metadata": {},
   "outputs": [],
   "source": [
    "time_series = 150000\n",
    "step = 100\n",
    "data_len = 629_145_480\n",
    "#data_len = 7_845_480"
   ]
  },
  {
   "cell_type": "code",
   "execution_count": 8,
   "metadata": {
    "_uuid": "18c27ef2001ac8f19096dc5f77f453af7999a3e5"
   },
   "outputs": [],
   "source": [
    "def feature_extraction(train, step=step):\n",
    "    n = len(train)//step\n",
    "    m = len(train)%step\n",
    "    train_x_stat = pd.DataFrame(index = range(n),dtype=np.float64, columns = ['mean','max','min','std','25%','75%'])\n",
    "    for i in range(n):\n",
    "        train_x_stat.loc[i,'mean'] = train.acoustic_data[i*step:(i+1)*step].mean()\n",
    "        train_x_stat.loc[i,'max'] = train.acoustic_data[i*step:(i+1)*step].max()\n",
    "        train_x_stat.loc[i,'min'] = train.acoustic_data[i*step:(i+1)*step].min()\n",
    "        train_x_stat.loc[i,'std'] = train.acoustic_data[i*step:(i+1)*step].std()\n",
    "        train_x_stat.loc[i,'25%'] = np.percentile(train.acoustic_data[i*step:(i+1)*step],25)\n",
    "        train_x_stat.loc[i,'75%'] = np.percentile(train.acoustic_data[i*step:(i+1)*step],75)\n",
    "\n",
    "    if m != 0:\n",
    "        train_x_stat.loc[n,'mean'] = train.acoustic_data[-m:].mean()\n",
    "        train_x_stat.loc[n,'max'] = train.acoustic_data[-m:].max()\n",
    "        train_x_stat.loc[n,'min'] = train.acoustic_data[-m:].min()\n",
    "        train_x_stat.loc[n,'std'] = train.acoustic_data[-m:].std()\n",
    "        train_x_stat.loc[n,'25%'] = np.percentile(train.acoustic_data[-m:],25)\n",
    "        train_x_stat.loc[n,'75%'] = np.percentile(train.acoustic_data[-m:],75)\n",
    "    return train_x_stat"
   ]
  },
  {
   "cell_type": "code",
   "execution_count": 9,
   "metadata": {},
   "outputs": [],
   "source": [
    "def feature_extraction_vec(train, step=step):\n",
    "    #n = len(train)//step * step\n",
    "    #train = train.values\n",
    "    train = np.reshape(train,(-1, step))\n",
    "    \n",
    "    train_x_stat = pd.DataFrame(index = range(len(train)),dtype=np.float64, columns = ['mean','max','min','std','25%','75%'])\n",
    "    train_x_stat['mean']=np.mean(train, axis=1)\n",
    "    train_x_stat['max']=np.max(train, axis=1)\n",
    "    train_x_stat['min']=np.min(train, axis=1)\n",
    "    train_x_stat['std']=np.std(train, axis=1)\n",
    "    train_x_stat['25%']=np.percentile(train, q=25, axis=1)\n",
    "    train_x_stat['75%']=np.percentile(train, q=75, axis=1)\n",
    "   \n",
    "    return train_x_stat"
   ]
  },
  {
   "cell_type": "code",
   "execution_count": 10,
   "metadata": {
    "_uuid": "6cab96a3fef1e0825fd7893ef57ab0c1676e3e82"
   },
   "outputs": [],
   "source": [
    "def convert_for_nn(train_x_stat, time_series=time_series, step=step):\n",
    "    train_x_array = train_x_stat.values\n",
    "    train_x = np.reshape(train_x_array,(-1,int(time_series/step),6))\n",
    "    return train_x"
   ]
  },
  {
   "cell_type": "code",
   "execution_count": 11,
   "metadata": {
    "_uuid": "771d20f521b17113780dacf20c00c922ef75a601"
   },
   "outputs": [],
   "source": [
    "from keras.models import Sequential\n",
    "from keras.layers import Conv1D, MaxPooling1D, Dense, GlobalAveragePooling1D, GlobalMaxPooling1D, BatchNormalization, Activation,Flatten,LSTM,CuDNNLSTM\n",
    "import warnings\n",
    "warnings.filterwarnings(\"ignore\")"
   ]
  },
  {
   "cell_type": "code",
   "execution_count": 12,
   "metadata": {
    "_uuid": "fea9fad9f0879147ffc09a4d6d78f41a944e9254"
   },
   "outputs": [],
   "source": [
    "model_conv1D = Sequential()\n",
    "model_conv1D.add(Conv1D(16,32,strides=1,input_shape = (int(time_series/step),6)))\n",
    "#model_conv1D.add(BatchNormalization())\n",
    "model_conv1D.add(Activation('relu'))\n",
    "#model.add(MaxPooling1D(2))\n",
    "\n",
    "model_conv1D.add(Conv1D(16,32,strides=1))\n",
    "#model_conv1D.add(BatchNormalization())\n",
    "model_conv1D.add(Activation('relu'))\n",
    "model_conv1D.add(MaxPooling1D(2))\n",
    "\n",
    "model_conv1D.add(Conv1D(32,16,strides=1))\n",
    "#model_conv1D.add(BatchNormalization())\n",
    "model_conv1D.add(Activation('relu'))\n",
    "#model.add(MaxPooling1D(2))\n",
    "\n",
    "#model.add(GlobalAveragePooling1D())\n",
    "model_conv1D.add(Flatten())\n",
    "model_conv1D.add(Dense(64))\n",
    "#model_conv1D.add(BatchNormalization())\n",
    "\n",
    "model_conv1D.add(Dense(32))\n",
    "model_conv1D.add(Activation('relu'))\n",
    "\n",
    "model_conv1D.add(Dense(1,activation='linear'))"
   ]
  },
  {
   "cell_type": "code",
   "execution_count": 13,
   "metadata": {
    "_uuid": "a2effee2cb3619b426b0b54e0301ddc643dfc03c"
   },
   "outputs": [
    {
     "name": "stdout",
     "output_type": "stream",
     "text": [
      "_________________________________________________________________\n",
      "Layer (type)                 Output Shape              Param #   \n",
      "=================================================================\n",
      "conv1d_1 (Conv1D)            (None, 1469, 16)          3088      \n",
      "_________________________________________________________________\n",
      "activation_1 (Activation)    (None, 1469, 16)          0         \n",
      "_________________________________________________________________\n",
      "conv1d_2 (Conv1D)            (None, 1438, 16)          8208      \n",
      "_________________________________________________________________\n",
      "activation_2 (Activation)    (None, 1438, 16)          0         \n",
      "_________________________________________________________________\n",
      "max_pooling1d_1 (MaxPooling1 (None, 719, 16)           0         \n",
      "_________________________________________________________________\n",
      "conv1d_3 (Conv1D)            (None, 704, 32)           8224      \n",
      "_________________________________________________________________\n",
      "activation_3 (Activation)    (None, 704, 32)           0         \n",
      "_________________________________________________________________\n",
      "flatten_1 (Flatten)          (None, 22528)             0         \n",
      "_________________________________________________________________\n",
      "dense_1 (Dense)              (None, 64)                1441856   \n",
      "_________________________________________________________________\n",
      "dense_2 (Dense)              (None, 32)                2080      \n",
      "_________________________________________________________________\n",
      "activation_4 (Activation)    (None, 32)                0         \n",
      "_________________________________________________________________\n",
      "dense_3 (Dense)              (None, 1)                 33        \n",
      "=================================================================\n",
      "Total params: 1,463,489\n",
      "Trainable params: 1,463,489\n",
      "Non-trainable params: 0\n",
      "_________________________________________________________________\n"
     ]
    }
   ],
   "source": [
    "model_conv1D.summary()"
   ]
  },
  {
   "cell_type": "code",
   "execution_count": 20,
   "metadata": {},
   "outputs": [],
   "source": [
    "class MY_Generator(Sequence):\n",
    "\n",
    "    def __init__(self, file_path, batch_size, step, time_series, val_size):\n",
    "        self.file_path = file_path\n",
    "        self.batch_size = batch_size\n",
    "        self.step = step\n",
    "        self.time_series = time_series\n",
    "        self.val_size = val_size\n",
    "        #self.on_epoch_end()\n",
    "\n",
    "    def __len__(self):\n",
    "        return int(np.ceil(data_len / float(self.batch_size/10)))\n",
    "\n",
    "    def __getitem__(self, idx):\n",
    "        #print(idx)\n",
    "        if (idx+1)*self.batch_size + self.val_size < data_len:\n",
    "            row_nums = list(range(idx*self.batch_size + self.val_size,(idx+1)*self.batch_size + self.val_size))\n",
    "        else:\n",
    "            row_nums = list(range(idx*self.batch_size + self.val_size,data_len))\n",
    "      \n",
    "        batch_x, batch_y = self.__data_generation(row_nums, idx)\n",
    "        return batch_x, batch_y\n",
    "\n",
    "   # def on_epoch_end(self):\n",
    "    #    print('one epoch starts')\n",
    "    \n",
    "    def __data_generation(self, row_nums, idx):\n",
    "        #print(row_nums[0], row_nums[-1])\n",
    "        temp = pd.read_csv(self.file_path, dtype={'acoustic_data': np.int16, 'time_to_failure': np.float64}, \n",
    "                nrows=len(row_nums), skiprows=range(1,row_nums[0]+1))\n",
    "        #temp = train[row_nums[0]:row_nums[-1]+1]\n",
    "        dim = int((len(row_nums)//self.time_series)*self.time_series)\n",
    "        temp_scaled = data_scale(temp[:dim])\n",
    "        #print(temp_scaled.shape)\n",
    "        batch_x_stat = feature_extraction_vec(temp_scaled, step = self.step)\n",
    "        #print(batch_x_stat.shape)\n",
    "        #print(dim)\n",
    "        batch_x = convert_for_nn(batch_x_stat, self.time_series, self.step)\n",
    "        \n",
    "        batch_y_tmp = temp.time_to_failure[self.time_series-1::self.time_series]\n",
    "        train_y_array = batch_y_tmp.values\n",
    "        batch_y = np.reshape(train_y_array,(-1,1))\n",
    "        #print('batch'+str(idx)+' done')\n",
    "\n",
    "        return batch_x, batch_y"
   ]
  },
  {
   "cell_type": "code",
   "execution_count": 21,
   "metadata": {},
   "outputs": [],
   "source": [
    "batch_size =time_series * 16\n",
    "val_size = time_series * 20"
   ]
  },
  {
   "cell_type": "code",
   "execution_count": 22,
   "metadata": {},
   "outputs": [
    {
     "name": "stdout",
     "output_type": "stream",
     "text": [
      "(20, 1500, 6) (20, 1)\n"
     ]
    }
   ],
   "source": [
    "#preparing validation data set\n",
    "validation = pd.read_csv('/home/ubuntu/kaggle/LANL_Earthquake/train.csv', dtype={'acoustic_data': np.int16, 'time_to_failure': np.float64}, \n",
    "                    nrows=val_size, skiprows=0)\n",
    "val_scaled = data_scale(validation)\n",
    "val_x_stat = feature_extraction_vec(val_scaled, step = step)\n",
    "val_x = convert_for_nn(val_x_stat, time_series, step)\n",
    "val_y = validation.time_to_failure[time_series-1::time_series]\n",
    "val_y_array = val_y.values\n",
    "val_y = np.reshape(val_y_array,(-1,1))\n",
    "print(val_x.shape, val_y.shape)\n",
    "val = (val_x, val_y)"
   ]
  },
  {
   "cell_type": "code",
   "execution_count": 23,
   "metadata": {},
   "outputs": [
    {
     "name": "stdout",
     "output_type": "stream",
     "text": [
      "Epoch 1/1\n",
      "23/23 [==============================] - 90s 4s/step - loss: 30.7803 - val_loss: 29.2652\n"
     ]
    }
   ],
   "source": [
    "my_training_batch_generator = MY_Generator('/home/ubuntu/kaggle/LANL_Earthquake/train.csv', batch_size=batch_size, step=step, \n",
    "                                           time_series = time_series, val_size = val_size)\n",
    "\n",
    "model_conv1D.compile(optimizer='adam', loss='mean_squared_error')\n",
    "history_conv1D = model_conv1D.fit_generator(generator=my_training_batch_generator, \n",
    "                                          epochs=1,\n",
    "                                          steps_per_epoch = int((data_len/10-val_size)/batch_size)-1,\n",
    "                                          validation_data=val,\n",
    "                                          use_multiprocessing=True,\n",
    "                                          shuffle = False,\n",
    "                                            workers = 6\n",
    "                                          )"
   ]
  },
  {
   "cell_type": "code",
   "execution_count": 24,
   "metadata": {},
   "outputs": [
    {
     "name": "stdout",
     "output_type": "stream",
     "text": [
      "(100, 1500, 6) (100, 1)\n"
     ]
    }
   ],
   "source": [
    "#preparing mini_training data set\n",
    "mini_train = pd.read_csv('/home/ubuntu/kaggle/LANL_Earthquake/train.csv', dtype={'acoustic_data': np.int16, 'time_to_failure': np.float64}, \n",
    "                    nrows=time_series*100, skiprows=range(1,val_size+1))\n",
    "mini_train_scaled = data_scale(mini_train)\n",
    "mini_train_x_stat = feature_extraction_vec(mini_train_scaled, step = step)\n",
    "mini_train_x = convert_for_nn(mini_train_x_stat, time_series, step)\n",
    "mini_train_y = mini_train.time_to_failure[time_series-1::time_series]\n",
    "mini_train_y_array = mini_train_y.values\n",
    "mini_train_y = np.reshape(mini_train_y_array,(-1,1))\n",
    "print(mini_train_x.shape, mini_train_y.shape)"
   ]
  },
  {
   "cell_type": "code",
   "execution_count": 25,
   "metadata": {},
   "outputs": [
    {
     "data": {
      "image/png": "[encoded data removed]",
      "text/plain": [
       "<Figure size 720x360 with 1 Axes>"
      ]
     },
     "metadata": {},
     "output_type": "display_data"
    }
   ],
   "source": [
    "pred_y = model_conv1D.predict(mini_train_x, batch_size=16)\n",
    "f = plt.figure(figsize=(10,5))\n",
    "plt.plot(pred_y,color='red')\n",
    "plt.plot(mini_train_y, color='blue')\n",
    "plt.show()"
   ]
  },
  {
   "cell_type": "code",
   "execution_count": 26,
   "metadata": {
    "_uuid": "3f5425b0350777752375250b866de981f9a4bda0"
   },
   "outputs": [],
   "source": [
    "model = Sequential()\n",
    "model.add(Conv1D(8,32,strides=1,activation='relu',input_shape = (1500,6)))\n",
    "#model.add(BatchNormalization())\n",
    "model.add(Conv1D(8,32,strides=1,activation='relu',input_shape = (1500,6)))\n",
    "#model.add(BatchNormalization())\n",
    "model.add(MaxPooling1D(2))\n",
    "model.add(Conv1D(16,16,strides=1,activation='relu'))\n",
    "#model.add(BatchNormalization())\n",
    "model.add(Conv1D(16,16,strides=1,activation='relu'))\n",
    "#model.add(BatchNormalization())\n",
    "model.add(MaxPooling1D(2))\n",
    "model.add(Conv1D(32,8,strides=1,activation='relu'))\n",
    "#model.add(BatchNormalization())\n",
    "model.add(Conv1D(32,8,strides=1,activation='relu'))\n",
    "model.add(GlobalMaxPooling1D())\n",
    "model.add(Dense(1, activation=None))"
   ]
  },
  {
   "cell_type": "code",
   "execution_count": 27,
   "metadata": {},
   "outputs": [
    {
     "name": "stdout",
     "output_type": "stream",
     "text": [
      "_________________________________________________________________\n",
      "Layer (type)                 Output Shape              Param #   \n",
      "=================================================================\n",
      "conv1d_4 (Conv1D)            (None, 1469, 8)           1544      \n",
      "_________________________________________________________________\n",
      "conv1d_5 (Conv1D)            (None, 1438, 8)           2056      \n",
      "_________________________________________________________________\n",
      "max_pooling1d_2 (MaxPooling1 (None, 719, 8)            0         \n",
      "_________________________________________________________________\n",
      "conv1d_6 (Conv1D)            (None, 704, 16)           2064      \n",
      "_________________________________________________________________\n",
      "conv1d_7 (Conv1D)            (None, 689, 16)           4112      \n",
      "_________________________________________________________________\n",
      "max_pooling1d_3 (MaxPooling1 (None, 344, 16)           0         \n",
      "_________________________________________________________________\n",
      "conv1d_8 (Conv1D)            (None, 337, 32)           4128      \n",
      "_________________________________________________________________\n",
      "conv1d_9 (Conv1D)            (None, 330, 32)           8224      \n",
      "_________________________________________________________________\n",
      "global_max_pooling1d_1 (Glob (None, 32)                0         \n",
      "_________________________________________________________________\n",
      "dense_4 (Dense)              (None, 1)                 33        \n",
      "=================================================================\n",
      "Total params: 22,161\n",
      "Trainable params: 22,161\n",
      "Non-trainable params: 0\n",
      "_________________________________________________________________\n"
     ]
    }
   ],
   "source": [
    "model.summary()"
   ]
  },
  {
   "cell_type": "code",
   "execution_count": 28,
   "metadata": {},
   "outputs": [
    {
     "name": "stdout",
     "output_type": "stream",
     "text": [
      "Epoch 1/1\n",
      "23/23 [==============================] - 102s 4s/step - loss: 43.3363 - val_loss: 0.3394\n"
     ]
    }
   ],
   "source": [
    "my_training_batch_generator = MY_Generator('/home/ubuntu/kaggle/LANL_Earthquake/train.csv', batch_size=batch_size, step=step, \n",
    "                                           time_series = time_series, val_size = val_size)\n",
    "\n",
    "model.compile(optimizer='adam', loss='mean_squared_error')\n",
    "history_conv1D = model.fit_generator(generator=my_training_batch_generator, \n",
    "                                          epochs=1,\n",
    "                                          steps_per_epoch = int((data_len/10-val_size)/batch_size)-1,\n",
    "                                          validation_data=val,\n",
    "                                          use_multiprocessing=True,\n",
    "                                          shuffle = False,\n",
    "                                            workers = 6)"
   ]
  },
  {
   "cell_type": "code",
   "execution_count": 30,
   "metadata": {},
   "outputs": [
    {
     "data": {
      "image/png": "[encoded data removed]",
      "text/plain": [
       "<Figure size 432x288 with 1 Axes>"
      ]
     },
     "metadata": {},
     "output_type": "display_data"
    }
   ],
   "source": [
    "plt.plot(history_conv1D.history['loss'], 'r--')\n",
    "plt.plot(history_conv1D.history['val_loss'], 'b-')\n",
    "plt.legend(['Training Loss', 'Test Loss'])\n",
    "plt.xlabel('Epoch')\n",
    "plt.ylabel('Loss')\n",
    "plt.show();"
   ]
  },
  {
   "cell_type": "code",
   "execution_count": 105,
   "metadata": {
    "_uuid": "07a5697971e9626e8fb88acee4751916225010ad",
    "scrolled": true
   },
   "outputs": [
    {
     "data": {
      "image/png": "[encoded data removed]",
      "text/plain": [
       "<Figure size 720x360 with 1 Axes>"
      ]
     },
     "metadata": {},
     "output_type": "display_data"
    }
   ],
   "source": [
    "pred_y = model.predict(mini_train_x, batch_size=16)\n",
    "f = plt.figure(figsize=(10,5))\n",
    "plt.plot(pred_y,color='red')\n",
    "plt.plot(mini_train_y, color='blue')\n",
    "plt.show()"
   ]
  },
  {
   "cell_type": "code",
   "execution_count": 31,
   "metadata": {
    "_uuid": "3d434bbbdc74cd5b25ea22b83bc001e1ae17db15"
   },
   "outputs": [],
   "source": [
    "model_lstm = Sequential()\n",
    "model_lstm.add(CuDNNLSTM(32, return_sequences=True, input_shape=(time_series/step,6)))\n",
    "model_lstm.add(CuDNNLSTM(64, return_sequences=True))\n",
    "model_lstm.add(CuDNNLSTM(128, return_sequences=False))\n",
    "#model.add(Dropout(0.5))\n",
    "#model.add(BatchNormalization())\n",
    "model_lstm.add(Dense(128, activation='relu'))\n",
    "model_lstm.add(Dense(256, activation='relu'))\n",
    "model_lstm.add(Dense(1, activation='linear'))"
   ]
  },
  {
   "cell_type": "code",
   "execution_count": 32,
   "metadata": {
    "_uuid": "b752882610d623015964af371d5a2cb96236f047",
    "scrolled": true
   },
   "outputs": [
    {
     "name": "stdout",
     "output_type": "stream",
     "text": [
      "_________________________________________________________________\n",
      "Layer (type)                 Output Shape              Param #   \n",
      "=================================================================\n",
      "cu_dnnlstm_1 (CuDNNLSTM)     (None, 1500.0, 32)        5120      \n",
      "_________________________________________________________________\n",
      "cu_dnnlstm_2 (CuDNNLSTM)     (None, 1500.0, 64)        25088     \n",
      "_________________________________________________________________\n",
      "cu_dnnlstm_3 (CuDNNLSTM)     (None, 128)               99328     \n",
      "_________________________________________________________________\n",
      "dense_5 (Dense)              (None, 128)               16512     \n",
      "_________________________________________________________________\n",
      "dense_6 (Dense)              (None, 256)               33024     \n",
      "_________________________________________________________________\n",
      "dense_7 (Dense)              (None, 1)                 257       \n",
      "=================================================================\n",
      "Total params: 179,329\n",
      "Trainable params: 179,329\n",
      "Non-trainable params: 0\n",
      "_________________________________________________________________\n"
     ]
    }
   ],
   "source": [
    "model_lstm.summary()"
   ]
  },
  {
   "cell_type": "code",
   "execution_count": 36,
   "metadata": {},
   "outputs": [
    {
     "name": "stdout",
     "output_type": "stream",
     "text": [
      "Epoch 1/1\n",
      "23/23 [==============================] - 137s 6s/step - loss: 30.7087 - val_loss: 8.7741\n"
     ]
    }
   ],
   "source": [
    "my_training_batch_generator = MY_Generator('/home/ubuntu/kaggle/LANL_Earthquake/train.csv', batch_size=batch_size, step=step, \n",
    "                                           time_series = time_series, val_size = val_size)\n",
    "\n",
    "model_lstm.compile(optimizer='adam', loss='mean_squared_error')\n",
    "history_conv1D = model_lstm.fit_generator(generator=my_training_batch_generator, \n",
    "                                          epochs=1,\n",
    "                                          steps_per_epoch = int((data_len/10-val_size)/batch_size)-1,\n",
    "                                          validation_data=val,\n",
    "                                          use_multiprocessing=True,\n",
    "                                          shuffle = False,\n",
    "                                            workers = 6)"
   ]
  },
  {
   "cell_type": "code",
   "execution_count": 37,
   "metadata": {
    "_uuid": "15f5b672d0c31b55971e57b106c3046b7f2c33db"
   },
   "outputs": [
    {
     "data": {
      "image/png": "[encoded data removed]",
      "text/plain": [
       "<Figure size 720x360 with 1 Axes>"
      ]
     },
     "metadata": {},
     "output_type": "display_data"
    }
   ],
   "source": [
    "pred_y = model_lstm.predict(mini_train_x, batch_size=16)\n",
    "f = plt.figure(figsize=(10,5))\n",
    "plt.plot(pred_y,color='red')\n",
    "plt.plot(mini_train_y, color='blue')\n",
    "plt.show()"
   ]
  },
  {
   "cell_type": "code",
   "execution_count": 38,
   "metadata": {
    "_uuid": "6171a8425b2c797402d1928af2917bb890685116"
   },
   "outputs": [],
   "source": [
    "tests = os.listdir(\"/home/ubuntu/kaggle/LANL_Earthquake/test/\")\n",
    "tests.sort()"
   ]
  },
  {
   "cell_type": "code",
   "execution_count": 39,
   "metadata": {
    "_uuid": "f72139e2ee2bd8f9a2d2df61209e47d0972bb7fc"
   },
   "outputs": [
    {
     "data": {
      "text/plain": [
       "2624"
      ]
     },
     "execution_count": 39,
     "metadata": {},
     "output_type": "execute_result"
    }
   ],
   "source": [
    "len(tests) #2624"
   ]
  },
  {
   "cell_type": "code",
   "execution_count": 26,
   "metadata": {
    "_uuid": "0bad782997d3a4aef1b2b85f8afc62b126d96663"
   },
   "outputs": [],
   "source": [
    "import tqdm"
   ]
  },
  {
   "cell_type": "code",
   "execution_count": null,
   "metadata": {
    "_uuid": "06635f6a145a49e000737b850781b98dc3d760cb"
   },
   "outputs": [],
   "source": [
    "#making submission file using conv1D\n",
    "sub_conv1D = pd.DataFrame(index = range(len(tests)),dtype=np.float64, columns = ['seg_id','time_to_failure'])\n",
    "\n",
    "for i, test in enumerate(tqdm.tqdm(tests)):\n",
    "    test_f = pd.read_csv('/home/ubuntu/kaggle/LANL_Earthquake/test/' + test)\n",
    "    tmp = data_scale(test_f)\n",
    "    tmp2 = feature_extraction_vec(tmp)\n",
    "    test_X = convert_for_nn(tmp2)\n",
    "    test_pred = np.float(model_conv1D.predict(test_X))\n",
    "    sub_conv1D.loc[i,'seg_id'] = str(test).split('.')[0]\n",
    "    sub_conv1D.loc[i,'time_to_failure']= test_pred\n",
    "sub_conv1D.to_csv('conv1D_submission.csv', index=False)"
   ]
  },
  {
   "cell_type": "code",
   "execution_count": null,
   "metadata": {
    "_uuid": "462c005d1cdc8cbc4e85441ff89496c3d073a431"
   },
   "outputs": [],
   "source": [
    "#making submission file using model\n",
    "sub_model = pd.DataFrame(index = range(len(tests)),dtype=np.float64, columns = ['seg_id','time_to_failure'])\n",
    "\n",
    "for i, test in enumerate(tqdm.tqdm(tests[:2])):\n",
    "    test_f = pd.read_csv('/home/ubuntu/kaggle/LANL_Earthquake/test/' + test)\n",
    "    tmp = data_scale(test_f)\n",
    "    tmp2 = feature_extraction_vec(tmp)\n",
    "    test_X = convert_for_nn(tmp2)\n",
    "    test_pred = np.float(model.predict(test_X))\n",
    "    sub_model.loc[i,'seg_id'] = str(test).split('.')[0]\n",
    "    sub_model.loc[i,'time_to_failure']= test_pred\n",
    "sub_model.to_csv('model_submission.csv', index=False)"
   ]
  },
  {
   "cell_type": "code",
   "execution_count": null,
   "metadata": {},
   "outputs": [],
   "source": [
    "sub_model.head()"
   ]
  },
  {
   "cell_type": "code",
   "execution_count": null,
   "metadata": {
    "_uuid": "a488c3c82977f9b3bccab11fb2b4445e48774961"
   },
   "outputs": [],
   "source": [
    "#making submission file using LSTM\n",
    "sub_lstm = pd.DataFrame(index = range(len(tests)),dtype=np.float64, columns = ['seg_id','time_to_failure'])\n",
    "\n",
    "for i, test in enumerate(tqdm.tqdm(tests)):\n",
    "    test_f = pd.read_csv('/home/ubuntu/kaggle/LANL_Earthquake/test/' + test)\n",
    "    tmp = data_scale(test_f)\n",
    "    tmp2 = feature_extraction_vec(tmp)\n",
    "    test_X = convert_for_nn(tmp2)\n",
    "    test_pred = np.float(model_lstm.predict(test_X))\n",
    "    sub_lstm.loc[i,'seg_id'] = str(test).split('.')[0]\n",
    "    sub_lstm.loc[i,'time_to_failure']= test_pred\n",
    "sub_lstm.to_csv('lstm_submission.csv', index=False)"
   ]
  }
 ],
 "metadata": {
  "kernelspec": {
   "display_name": "Environment (conda_tensorflow_p36)",
   "language": "python",
   "name": "conda_tensorflow_p36"
  },
  "language_info": {
   "codemirror_mode": {
    "name": "ipython",
    "version": 3
   },
   "file_extension": ".py",
   "mimetype": "text/x-python",
   "name": "python",
   "nbconvert_exporter": "python",
   "pygments_lexer": "ipython3",
   "version": "3.6.5"
  }
 },
 "nbformat": 4,
 "nbformat_minor": 1
}
